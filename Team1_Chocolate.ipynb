{
  "nbformat": 4,
  "nbformat_minor": 0,
  "metadata": {
    "kernelspec": {
      "display_name": "Python 3",
      "language": "python",
      "name": "python3"
    },
    "language_info": {
      "codemirror_mode": {
        "name": "ipython",
        "version": 3
      },
      "file_extension": ".py",
      "mimetype": "text/x-python",
      "name": "python",
      "nbconvert_exporter": "python",
      "pygments_lexer": "ipython3",
      "version": "3.7.3"
    },
    "colab": {
      "name": "Copie de Team 1 - Chocolate Bar.ipynb",
      "provenance": []
    }
  },
  "cells": [
    {
      "cell_type": "markdown",
      "metadata": {
        "id": "48TALbqn6vwZ",
        "colab_type": "text"
      },
      "source": [
        "# Team 1 - Chocolate Bar\n",
        "\n",
        "![](https://img.newatlas.com/cocoa-tree-domestication-chocolate-1.jpg?auto=format%2Ccompress&ch=Width%2CDPR&fit=crop&h=347&q=60&rect=0%2C18%2C1620%2C911&w=616&s=2c0f902d21b734d77c99fd13171fb979)\n",
        "\n",
        "_For more information about the dataset, read [here](https://www.kaggle.com/rtatman/chocolate-bar-ratings)._\n",
        "\n",
        "## Your tasks\n",
        "- Name your team!\n",
        "- Read the source and do some quick research to understand more about the dataset and its topic\n",
        "- Clean the data\n",
        "- Perform Exploratory Data Analysis on the dataset\n",
        "- Analyze the data more deeply and extract insights\n",
        "- Visualize your analysis on Google Data Studio\n",
        "- Present your works in front of the class and guests next Monday\n",
        "\n",
        "## Submission Guide\n",
        "- Create a Github repository for your project\n",
        "- Upload the dataset (.csv file) and the Jupyter Notebook to your Github repository. In the Jupyter Notebook, **include the link to your Google Data Studio report**.\n",
        "- Submit your works through this [Google Form](https://forms.gle/oxtXpGfS8JapVj3V8).\n",
        "\n",
        "## Tips for Data Cleaning, Manipulation & Visualization\n",
        "- Here are some of our tips for Data Cleaning, Manipulation & Visualization. [Click here](https://hackmd.io/cBNV7E6TT2WMliQC-GTw1A)\n",
        "\n",
        "_____________________________\n",
        "\n",
        "## Some Hints for This Dataset:\n",
        "- There are lots of poorly labeled data in `Broad Bean Origin` column.\n",
        "- There are some rows in `Broad Bean Origin` with multiple values, those values will create errors in our data. \n",
        "- How can we get rid of the `%` sign in `Cocoa Percent` column?\n",
        "- And more..."
      ]
    },
    {
      "cell_type": "code",
      "metadata": {
        "id": "XGU9irYt6vwc",
        "colab_type": "code",
        "colab": {}
      },
      "source": [
        "# Start your codes here!\n",
        "from google.colab import auth\n",
        "auth.authenticate_user()\n",
        "\n",
        "import gspread\n",
        "from oauth2client.client import GoogleCredentials\n",
        "from gspread_dataframe import get_as_dataframe, set_with_dataframe "
      ],
      "execution_count": 0,
      "outputs": []
    },
    {
      "cell_type": "code",
      "metadata": {
        "id": "lPs59kNuUOC_",
        "colab_type": "code",
        "colab": {}
      },
      "source": [
        "gc = gspread.authorize(GoogleCredentials.get_application_default()) #grant access to google drive "
      ],
      "execution_count": 0,
      "outputs": []
    },
    {
      "cell_type": "code",
      "metadata": {
        "id": "cOep1bXPVA_H",
        "colab_type": "code",
        "colab": {}
      },
      "source": [
        "def check_exists(path):\n",
        "  # open the file. If exist return True\n",
        "  try:\n",
        "    sh = gc.open(path)\n",
        "    return True\n",
        "  except:\n",
        "    return False\n",
        " \n",
        "  \n",
        "  # Your code here"
      ],
      "execution_count": 0,
      "outputs": []
    },
    {
      "cell_type": "code",
      "metadata": {
        "id": "twlE0J46VIbO",
        "colab_type": "code",
        "colab": {}
      },
      "source": [
        "def create_new_worksheet(path='worksheet', sheets={\"sheet1\":\"\"}):\n",
        "    if check_exists(path):\n",
        "        print('create_new_worksheet(): File exists')\n",
        "        return gc.open(path)\n",
        "    sh = gc.create(path)\n",
        "    for name, cols in sheets.items():\n",
        "        sh.add_worksheet(title=name, rows=\"100\", cols=\"100\")\n",
        "        sh.values_update(\n",
        "            name + '!A1',\n",
        "            params={'valueInputOption': 'RAW'},\n",
        "            body={'values': [cols]}\n",
        "        )      \n",
        "    sh.del_worksheet(sh.sheet1)\n",
        "    return sh"
      ],
      "execution_count": 0,
      "outputs": []
    },
    {
      "cell_type": "code",
      "metadata": {
        "id": "Pa2_8Xt7VKeA",
        "colab_type": "code",
        "colab": {}
      },
      "source": [
        "# Import numpy and pandas\n",
        "import numpy as np\n",
        "import pandas as pd"
      ],
      "execution_count": 0,
      "outputs": []
    },
    {
      "cell_type": "code",
      "metadata": {
        "id": "STtb6lpIVMvH",
        "colab_type": "code",
        "colab": {}
      },
      "source": [
        "file = pd.read_csv('Chocolate.csv')\n",
        "# Tên các thuộc tính: thay các dấu space thành dâu _ để dễ xử lý"
      ],
      "execution_count": 0,
      "outputs": []
    },
    {
      "cell_type": "code",
      "metadata": {
        "id": "91YkxAls8vdS",
        "colab_type": "code",
        "colab": {
          "base_uri": "https://localhost:8080/",
          "height": 195
        },
        "outputId": "d8d8e129-a147-4b95-e4f5-e87989f9d285"
      },
      "source": [
        "file.head(5)"
      ],
      "execution_count": 75,
      "outputs": [
        {
          "output_type": "execute_result",
          "data": {
            "text/html": [
              "<div>\n",
              "<style scoped>\n",
              "    .dataframe tbody tr th:only-of-type {\n",
              "        vertical-align: middle;\n",
              "    }\n",
              "\n",
              "    .dataframe tbody tr th {\n",
              "        vertical-align: top;\n",
              "    }\n",
              "\n",
              "    .dataframe thead th {\n",
              "        text-align: right;\n",
              "    }\n",
              "</style>\n",
              "<table border=\"1\" class=\"dataframe\">\n",
              "  <thead>\n",
              "    <tr style=\"text-align: right;\">\n",
              "      <th></th>\n",
              "      <th>Company(Maker_if_known)</th>\n",
              "      <th>Specific_Bean_Origin_or_Bar_Name</th>\n",
              "      <th>REF</th>\n",
              "      <th>Review_Date</th>\n",
              "      <th>Cocoa_Percent</th>\n",
              "      <th>Company_Location</th>\n",
              "      <th>Rating</th>\n",
              "      <th>Bean_Type</th>\n",
              "      <th>Broad_Bean_Origin</th>\n",
              "    </tr>\n",
              "  </thead>\n",
              "  <tbody>\n",
              "    <tr>\n",
              "      <th>0</th>\n",
              "      <td>A. Morin</td>\n",
              "      <td>Agua Grande</td>\n",
              "      <td>1876</td>\n",
              "      <td>2016</td>\n",
              "      <td>63%</td>\n",
              "      <td>France</td>\n",
              "      <td>3.75</td>\n",
              "      <td></td>\n",
              "      <td>Sao Tome</td>\n",
              "    </tr>\n",
              "    <tr>\n",
              "      <th>1</th>\n",
              "      <td>A. Morin</td>\n",
              "      <td>Kpime</td>\n",
              "      <td>1676</td>\n",
              "      <td>2015</td>\n",
              "      <td>70%</td>\n",
              "      <td>France</td>\n",
              "      <td>2.75</td>\n",
              "      <td></td>\n",
              "      <td>Togo</td>\n",
              "    </tr>\n",
              "    <tr>\n",
              "      <th>2</th>\n",
              "      <td>A. Morin</td>\n",
              "      <td>Atsane</td>\n",
              "      <td>1676</td>\n",
              "      <td>2015</td>\n",
              "      <td>70%</td>\n",
              "      <td>France</td>\n",
              "      <td>3.00</td>\n",
              "      <td></td>\n",
              "      <td>Togo</td>\n",
              "    </tr>\n",
              "    <tr>\n",
              "      <th>3</th>\n",
              "      <td>A. Morin</td>\n",
              "      <td>Akata</td>\n",
              "      <td>1680</td>\n",
              "      <td>2015</td>\n",
              "      <td>70%</td>\n",
              "      <td>France</td>\n",
              "      <td>3.50</td>\n",
              "      <td></td>\n",
              "      <td>Togo</td>\n",
              "    </tr>\n",
              "    <tr>\n",
              "      <th>4</th>\n",
              "      <td>A. Morin</td>\n",
              "      <td>Quilla</td>\n",
              "      <td>1704</td>\n",
              "      <td>2015</td>\n",
              "      <td>70%</td>\n",
              "      <td>France</td>\n",
              "      <td>3.50</td>\n",
              "      <td></td>\n",
              "      <td>Peru</td>\n",
              "    </tr>\n",
              "  </tbody>\n",
              "</table>\n",
              "</div>"
            ],
            "text/plain": [
              "  Company(Maker_if_known)  ... Broad_Bean_Origin\n",
              "0                A. Morin  ...          Sao Tome\n",
              "1                A. Morin  ...              Togo\n",
              "2                A. Morin  ...              Togo\n",
              "3                A. Morin  ...              Togo\n",
              "4                A. Morin  ...              Peru\n",
              "\n",
              "[5 rows x 9 columns]"
            ]
          },
          "metadata": {
            "tags": []
          },
          "execution_count": 75
        }
      ]
    },
    {
      "cell_type": "code",
      "metadata": {
        "id": "XqIOhsmt813x",
        "colab_type": "code",
        "colab": {
          "base_uri": "https://localhost:8080/",
          "height": 252
        },
        "outputId": "80d154e9-96b7-4ddd-9838-4bce1f41b8c5"
      },
      "source": [
        "file.info()\n",
        "# Nhận thấy có 2 giá trị NaN trong Bean_Type và Broad_Bean_Origin"
      ],
      "execution_count": 76,
      "outputs": [
        {
          "output_type": "stream",
          "text": [
            "<class 'pandas.core.frame.DataFrame'>\n",
            "RangeIndex: 1795 entries, 0 to 1794\n",
            "Data columns (total 9 columns):\n",
            "Company(Maker_if_known)             1795 non-null object\n",
            "Specific_Bean_Origin_or_Bar_Name    1795 non-null object\n",
            "REF                                 1795 non-null int64\n",
            "Review_Date                         1795 non-null int64\n",
            "Cocoa_Percent                       1795 non-null object\n",
            "Company_Location                    1795 non-null object\n",
            "Rating                              1795 non-null float64\n",
            "Bean_Type                           1794 non-null object\n",
            "Broad_Bean_Origin                   1794 non-null object\n",
            "dtypes: float64(1), int64(2), object(6)\n",
            "memory usage: 126.3+ KB\n"
          ],
          "name": "stdout"
        }
      ]
    },
    {
      "cell_type": "code",
      "metadata": {
        "id": "ShyA1hvN82C1",
        "colab_type": "code",
        "colab": {}
      },
      "source": [
        ""
      ],
      "execution_count": 0,
      "outputs": []
    },
    {
      "cell_type": "code",
      "metadata": {
        "id": "jkISW0Ru82IG",
        "colab_type": "code",
        "colab": {}
      },
      "source": [
        "file[file['Bean_Type'].isna()==True]\n",
        "# xóa dòng có giá trị NaN vì số lượng không đáng kể\n",
        "file = file[file['Bean_Type'].isna()==False]"
      ],
      "execution_count": 0,
      "outputs": []
    },
    {
      "cell_type": "code",
      "metadata": {
        "id": "5UJyxUL282PV",
        "colab_type": "code",
        "colab": {}
      },
      "source": [
        "file[file['Broad_Bean_Origin'].isna()]\n",
        "# xóa dòng có giá trị NaN\n",
        "file = file[file['Broad_Bean_Origin'].isna()==False]"
      ],
      "execution_count": 0,
      "outputs": []
    },
    {
      "cell_type": "code",
      "metadata": {
        "id": "-gdCUsLq_sM8",
        "colab_type": "code",
        "colab": {
          "base_uri": "https://localhost:8080/",
          "height": 252
        },
        "outputId": "25f71c42-0c5a-4b2d-914e-4671d47581b0"
      },
      "source": [
        "file.info()\n",
        "# sau khi xóa NaN thì các giá trị còn lại đều đầy đủ"
      ],
      "execution_count": 79,
      "outputs": [
        {
          "output_type": "stream",
          "text": [
            "<class 'pandas.core.frame.DataFrame'>\n",
            "Int64Index: 1793 entries, 0 to 1794\n",
            "Data columns (total 9 columns):\n",
            "Company(Maker_if_known)             1793 non-null object\n",
            "Specific_Bean_Origin_or_Bar_Name    1793 non-null object\n",
            "REF                                 1793 non-null int64\n",
            "Review_Date                         1793 non-null int64\n",
            "Cocoa_Percent                       1793 non-null object\n",
            "Company_Location                    1793 non-null object\n",
            "Rating                              1793 non-null float64\n",
            "Bean_Type                           1793 non-null object\n",
            "Broad_Bean_Origin                   1793 non-null object\n",
            "dtypes: float64(1), int64(2), object(6)\n",
            "memory usage: 140.1+ KB\n"
          ],
          "name": "stdout"
        }
      ]
    },
    {
      "cell_type": "code",
      "metadata": {
        "id": "j87WoFmKAZzl",
        "colab_type": "code",
        "colab": {
          "base_uri": "https://localhost:8080/",
          "height": 393
        },
        "outputId": "962af01c-db04-4b59-dcea-508f1cf4eb88"
      },
      "source": [
        "file['Bean_Type'].value_counts().plot(kind='bar')\n",
        "# có quá nhiều giá trị trống# chưa biết Bean_Type đó"
      ],
      "execution_count": 88,
      "outputs": [
        {
          "output_type": "execute_result",
          "data": {
            "text/plain": [
              "<matplotlib.axes._subplots.AxesSubplot at 0x7f7a9f7c4710>"
            ]
          },
          "metadata": {
            "tags": []
          },
          "execution_count": 88
        },
        {
          "output_type": "display_data",
          "data": {
            "image/png": "[encoded data removed]",
            "text/plain": [
              "<Figure size 432x288 with 1 Axes>"
            ]
          },
          "metadata": {
            "tags": []
          }
        }
      ]
    },
    {
      "cell_type": "code",
      "metadata": {
        "id": "wwVQh4lgAZ6c",
        "colab_type": "code",
        "colab": {}
      },
      "source": [
        ""
      ],
      "execution_count": 0,
      "outputs": []
    },
    {
      "cell_type": "code",
      "metadata": {
        "id": "zo0NUirBAaCL",
        "colab_type": "code",
        "colab": {}
      },
      "source": [
        ""
      ],
      "execution_count": 0,
      "outputs": []
    },
    {
      "cell_type": "code",
      "metadata": {
        "id": "O9GJWuYHAaLg",
        "colab_type": "code",
        "colab": {}
      },
      "source": [
        ""
      ],
      "execution_count": 0,
      "outputs": []
    },
    {
      "cell_type": "code",
      "metadata": {
        "id": "lFKtrShZAaT4",
        "colab_type": "code",
        "colab": {}
      },
      "source": [
        ""
      ],
      "execution_count": 0,
      "outputs": []
    },
    {
      "cell_type": "code",
      "metadata": {
        "id": "BDE0uQQgVWkW",
        "colab_type": "code",
        "colab": {}
      },
      "source": [
        ""
      ],
      "execution_count": 0,
      "outputs": []
    },
    {
      "cell_type": "code",
      "metadata": {
        "id": "tEpace6bjfPw",
        "colab_type": "code",
        "colab": {}
      },
      "source": [
        ""
      ],
      "execution_count": 0,
      "outputs": []
    },
    {
      "cell_type": "code",
      "metadata": {
        "id": "WIKc9PS4jjQ5",
        "colab_type": "code",
        "colab": {}
      },
      "source": [
        ""
      ],
      "execution_count": 0,
      "outputs": []
    },
    {
      "cell_type": "code",
      "metadata": {
        "id": "N5bCNliKjn7D",
        "colab_type": "code",
        "colab": {}
      },
      "source": [
        ""
      ],
      "execution_count": 0,
      "outputs": []
    }
  ]
}